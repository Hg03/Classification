{
 "cells": [
  {
   "cell_type": "markdown",
   "id": "d93fd9bc",
   "metadata": {},
   "source": [
    "# Cleaning Pipeline"
   ]
  },
  {
   "cell_type": "code",
   "execution_count": 1,
   "id": "46c475fa",
   "metadata": {},
   "outputs": [],
   "source": [
    "#Importing essential libraries\n",
    "import pandas as pd\n",
    "import numpy as np\n",
    "import matplotlib.pyplot as plt\n",
    "import seaborn as sns\n",
    "from sklearn.experimental import enable_iterative_imputer\n",
    "from sklearn import impute, preprocessing, pipeline, model_selection, compose"
   ]
  },
  {
   "cell_type": "code",
   "execution_count": 2,
   "id": "c4b9a560",
   "metadata": {},
   "outputs": [],
   "source": [
    "df = pd.read_csv('spaceTrain.csv')\n",
    "# removing useless columns\n",
    "features = df.drop(['PassengerId','Cabin','Name','Transported'],axis = 1)\n",
    "target = df.Transported\n",
    "numerical_features = [feat for feat in features if features[feat].dtypes !='O']\n",
    "categorical_features = [feat for feat in features if feat not in numerical_features]\n",
    "ordinal_features = ['VIP','CryoSleep']\n",
    "nominal_features = ['HomePlanet','Destination']\n",
    "\n",
    "## Split your dataset into training and testing dataset\n",
    "x_train,x_test,y_train,y_test = model_selection.train_test_split(features,target,test_size = 0.2,stratify=target)"
   ]
  },
  {
   "cell_type": "code",
   "execution_count": 3,
   "id": "ebcb99dd",
   "metadata": {},
   "outputs": [],
   "source": [
    "def fix_outlier(X):\n",
    "    df = X.T\n",
    "    #df['Transported'] = y\n",
    "    \n",
    "    #indices = [x for x in df.index]    \n",
    "    out_indexlist = []\n",
    "    for col in range(6):\n",
    "        upper_indices = []\n",
    "        lower_indices = []\n",
    "        #Using nanpercentile instead of percentile because of nan values\n",
    "        Q1 = np.percentile(df[col], 25.)\n",
    "        Q3 = np.percentile(df[col], 75.)\n",
    "        \n",
    "        cut_off = (Q3 - Q1) * 1.5\n",
    "        upper, lower = Q3 + cut_off, Q1 - cut_off\n",
    "                \n",
    "        #upper_indices = df[col][df[col] < lower].index.tolist()\n",
    "        df[col][df[col] < lower] = lower\n",
    "        #lower_indices = df[col][df[col] > upper].index.tolist()\n",
    "        df[col][df[col] > upper] = upper\n",
    "        #X.loc[upper_indices][col] = upper\n",
    "        #X.loc[lower_indices][col] = lower\n",
    "        #outliers = df[col][(df[col] < lower) | (df[col] > upper)].values        \n",
    "        #out_indexlist.extend(outliers_index)\n",
    "        \n",
    "        \n",
    "    #using set to remove duplicates\n",
    "    #out_indexlist = list(set(out_indexlist))\n",
    "    \n",
    "    #clean_data = np.setdiff1d(indices,out_indexlist)\n",
    "\n",
    "    return df.T\n",
    "\n",
    "handle_outlier = preprocessing.FunctionTransformer(fix_outlier)\n"
   ]
  },
  {
   "cell_type": "code",
   "execution_count": 4,
   "id": "272b4674",
   "metadata": {},
   "outputs": [
    {
     "data": {
      "text/html": [
       "<div>\n",
       "<style scoped>\n",
       "    .dataframe tbody tr th:only-of-type {\n",
       "        vertical-align: middle;\n",
       "    }\n",
       "\n",
       "    .dataframe tbody tr th {\n",
       "        vertical-align: top;\n",
       "    }\n",
       "\n",
       "    .dataframe thead th {\n",
       "        text-align: right;\n",
       "    }\n",
       "</style>\n",
       "<table border=\"1\" class=\"dataframe\">\n",
       "  <thead>\n",
       "    <tr style=\"text-align: right;\">\n",
       "      <th></th>\n",
       "      <th>HomePlanet</th>\n",
       "      <th>CryoSleep</th>\n",
       "      <th>Destination</th>\n",
       "      <th>Age</th>\n",
       "      <th>VIP</th>\n",
       "      <th>RoomService</th>\n",
       "      <th>FoodCourt</th>\n",
       "      <th>ShoppingMall</th>\n",
       "      <th>Spa</th>\n",
       "      <th>VRDeck</th>\n",
       "    </tr>\n",
       "  </thead>\n",
       "  <tbody>\n",
       "    <tr>\n",
       "      <th>6893</th>\n",
       "      <td>Mars</td>\n",
       "      <td>True</td>\n",
       "      <td>TRAPPIST-1e</td>\n",
       "      <td>29.0</td>\n",
       "      <td>False</td>\n",
       "      <td>0.0</td>\n",
       "      <td>0.0</td>\n",
       "      <td>0.0</td>\n",
       "      <td>0.0</td>\n",
       "      <td>0.0</td>\n",
       "    </tr>\n",
       "    <tr>\n",
       "      <th>6248</th>\n",
       "      <td>Earth</td>\n",
       "      <td>False</td>\n",
       "      <td>PSO J318.5-22</td>\n",
       "      <td>20.0</td>\n",
       "      <td>False</td>\n",
       "      <td>0.0</td>\n",
       "      <td>90.0</td>\n",
       "      <td>561.0</td>\n",
       "      <td>2.0</td>\n",
       "      <td>0.0</td>\n",
       "    </tr>\n",
       "    <tr>\n",
       "      <th>5357</th>\n",
       "      <td>Earth</td>\n",
       "      <td>False</td>\n",
       "      <td>TRAPPIST-1e</td>\n",
       "      <td>44.0</td>\n",
       "      <td>False</td>\n",
       "      <td>69.0</td>\n",
       "      <td>0.0</td>\n",
       "      <td>17.0</td>\n",
       "      <td>176.0</td>\n",
       "      <td>2105.0</td>\n",
       "    </tr>\n",
       "    <tr>\n",
       "      <th>218</th>\n",
       "      <td>Earth</td>\n",
       "      <td>True</td>\n",
       "      <td>PSO J318.5-22</td>\n",
       "      <td>27.0</td>\n",
       "      <td>False</td>\n",
       "      <td>0.0</td>\n",
       "      <td>NaN</td>\n",
       "      <td>0.0</td>\n",
       "      <td>0.0</td>\n",
       "      <td>0.0</td>\n",
       "    </tr>\n",
       "    <tr>\n",
       "      <th>3400</th>\n",
       "      <td>Earth</td>\n",
       "      <td>True</td>\n",
       "      <td>TRAPPIST-1e</td>\n",
       "      <td>4.0</td>\n",
       "      <td>False</td>\n",
       "      <td>0.0</td>\n",
       "      <td>0.0</td>\n",
       "      <td>0.0</td>\n",
       "      <td>0.0</td>\n",
       "      <td>0.0</td>\n",
       "    </tr>\n",
       "  </tbody>\n",
       "</table>\n",
       "</div>"
      ],
      "text/plain": [
       "     HomePlanet CryoSleep    Destination   Age    VIP  RoomService  FoodCourt  \\\n",
       "6893       Mars      True    TRAPPIST-1e  29.0  False          0.0        0.0   \n",
       "6248      Earth     False  PSO J318.5-22  20.0  False          0.0       90.0   \n",
       "5357      Earth     False    TRAPPIST-1e  44.0  False         69.0        0.0   \n",
       "218       Earth      True  PSO J318.5-22  27.0  False          0.0        NaN   \n",
       "3400      Earth      True    TRAPPIST-1e   4.0  False          0.0        0.0   \n",
       "\n",
       "      ShoppingMall    Spa  VRDeck  \n",
       "6893           0.0    0.0     0.0  \n",
       "6248         561.0    2.0     0.0  \n",
       "5357          17.0  176.0  2105.0  \n",
       "218            0.0    0.0     0.0  \n",
       "3400           0.0    0.0     0.0  "
      ]
     },
     "execution_count": 4,
     "metadata": {},
     "output_type": "execute_result"
    }
   ],
   "source": [
    "x_train.head()"
   ]
  },
  {
   "cell_type": "code",
   "execution_count": 5,
   "id": "cd33c587",
   "metadata": {},
   "outputs": [],
   "source": [
    "imputer = compose.make_column_transformer(\n",
    "    (impute.SimpleImputer(strategy='mean'),[3,5,6,7,8,9]),\n",
    "    (impute.SimpleImputer(strategy='most_frequent'),[1,4]),\n",
    "    (impute.SimpleImputer(strategy='constant',fill_value='not_specified'),[0,2]),\n",
    "    remainder='passthrough'\n",
    ")\n",
    "\n",
    "encoding = compose.make_column_transformer(\n",
    "    (preprocessing.OrdinalEncoder(),[6,7]),\n",
    "    (preprocessing.OneHotEncoder(drop='first'),[8,9]),\n",
    "    remainder='passthrough'\n",
    ")\n",
    "\n",
    "cleaning_pipeline = pipeline.make_pipeline(imputer,encoding)"
   ]
  },
  {
   "cell_type": "code",
   "execution_count": 10,
   "id": "6026e035",
   "metadata": {},
   "outputs": [
    {
     "data": {
      "text/plain": [
       "['clean.joblib']"
      ]
     },
     "execution_count": 10,
     "metadata": {},
     "output_type": "execute_result"
    }
   ],
   "source": [
    "import joblib \n",
    "joblib.dump(cleaning_pipeline,'clean.joblib')"
   ]
  },
  {
   "cell_type": "code",
   "execution_count": 9,
   "id": "d11ef7b6",
   "metadata": {},
   "outputs": [],
   "source": [
    "#clean_pipe = joblib.load('clean.joblib')"
   ]
  },
  {
   "cell_type": "code",
   "execution_count": null,
   "id": "58ec047e",
   "metadata": {},
   "outputs": [],
   "source": []
  }
 ],
 "metadata": {
  "kernelspec": {
   "display_name": "Python 3 (ipykernel)",
   "language": "python",
   "name": "python3"
  },
  "language_info": {
   "codemirror_mode": {
    "name": "ipython",
    "version": 3
   },
   "file_extension": ".py",
   "mimetype": "text/x-python",
   "name": "python",
   "nbconvert_exporter": "python",
   "pygments_lexer": "ipython3",
   "version": "3.10.4"
  }
 },
 "nbformat": 4,
 "nbformat_minor": 5
}
