{
 "cells": [
  {
   "cell_type": "code",
   "execution_count": 1,
   "id": "01481207",
   "metadata": {},
   "outputs": [],
   "source": [
    "# Importing essential libraries\n",
    "import pandas as pd\n",
    "import numpy as np\n",
    "import matplotlib.pyplot as plt\n",
    "import seaborn as sns\n",
    "from sklearn.model_selection import train_test_split\n",
    "from sklearn.impute import SimpleImputer\n"
   ]
  },
  {
   "cell_type": "code",
   "execution_count": 2,
   "id": "a8b2d241",
   "metadata": {},
   "outputs": [],
   "source": [
    "df = pd.read_csv('Dataset/train.csv')\n",
    "def prepare_data(df):\n",
    "    no_sig = ['id','name','orbiting_body','sentry_object']  # Unsignificant feature\n",
    "    sig = [col for col in df.columns if col not in no_sig]  # Significant feature\n",
    "    data = df[sig] # Data with significant feature\n",
    "    data_updated = pd.get_dummies(data,columns=['hazardous'],drop_first=True).rename(columns = {'hazardous_True':'hazardous'})\n",
    "    return data_updated\n",
    "\n",
    "\n",
    "data = prepare_data(df)\n",
    "feature = data.drop('hazardous',axis = 1) # Independent Variable\n",
    "target = data.hazardous # Dependent Variable\n"
   ]
  },
  {
   "cell_type": "code",
   "execution_count": 4,
   "id": "20639594",
   "metadata": {},
   "outputs": [
    {
     "data": {
      "text/html": [
       "<div>\n",
       "<style scoped>\n",
       "    .dataframe tbody tr th:only-of-type {\n",
       "        vertical-align: middle;\n",
       "    }\n",
       "\n",
       "    .dataframe tbody tr th {\n",
       "        vertical-align: top;\n",
       "    }\n",
       "\n",
       "    .dataframe thead th {\n",
       "        text-align: right;\n",
       "    }\n",
       "</style>\n",
       "<table border=\"1\" class=\"dataframe\">\n",
       "  <thead>\n",
       "    <tr style=\"text-align: right;\">\n",
       "      <th></th>\n",
       "      <th>est_diameter_min</th>\n",
       "      <th>est_diameter_max</th>\n",
       "      <th>relative_velocity</th>\n",
       "      <th>miss_distance</th>\n",
       "      <th>absolute_magnitude</th>\n",
       "      <th>hazardous</th>\n",
       "    </tr>\n",
       "  </thead>\n",
       "  <tbody>\n",
       "    <tr>\n",
       "      <th>0</th>\n",
       "      <td>1.198271</td>\n",
       "      <td>2.679415</td>\n",
       "      <td>13569.249224</td>\n",
       "      <td>5.483974e+07</td>\n",
       "      <td>16.73</td>\n",
       "      <td>0</td>\n",
       "    </tr>\n",
       "    <tr>\n",
       "      <th>1</th>\n",
       "      <td>0.265800</td>\n",
       "      <td>0.594347</td>\n",
       "      <td>73588.726663</td>\n",
       "      <td>6.143813e+07</td>\n",
       "      <td>20.00</td>\n",
       "      <td>1</td>\n",
       "    </tr>\n",
       "    <tr>\n",
       "      <th>2</th>\n",
       "      <td>0.722030</td>\n",
       "      <td>1.614507</td>\n",
       "      <td>114258.692129</td>\n",
       "      <td>4.979872e+07</td>\n",
       "      <td>17.83</td>\n",
       "      <td>0</td>\n",
       "    </tr>\n",
       "    <tr>\n",
       "      <th>3</th>\n",
       "      <td>0.096506</td>\n",
       "      <td>0.215794</td>\n",
       "      <td>24764.303138</td>\n",
       "      <td>2.543497e+07</td>\n",
       "      <td>22.20</td>\n",
       "      <td>0</td>\n",
       "    </tr>\n",
       "    <tr>\n",
       "      <th>4</th>\n",
       "      <td>0.255009</td>\n",
       "      <td>0.570217</td>\n",
       "      <td>42737.733765</td>\n",
       "      <td>4.627557e+07</td>\n",
       "      <td>20.09</td>\n",
       "      <td>1</td>\n",
       "    </tr>\n",
       "  </tbody>\n",
       "</table>\n",
       "</div>"
      ],
      "text/plain": [
       "   est_diameter_min  est_diameter_max  relative_velocity  miss_distance  \\\n",
       "0          1.198271          2.679415       13569.249224   5.483974e+07   \n",
       "1          0.265800          0.594347       73588.726663   6.143813e+07   \n",
       "2          0.722030          1.614507      114258.692129   4.979872e+07   \n",
       "3          0.096506          0.215794       24764.303138   2.543497e+07   \n",
       "4          0.255009          0.570217       42737.733765   4.627557e+07   \n",
       "\n",
       "   absolute_magnitude  hazardous  \n",
       "0               16.73          0  \n",
       "1               20.00          1  \n",
       "2               17.83          0  \n",
       "3               22.20          0  \n",
       "4               20.09          1  "
      ]
     },
     "execution_count": 4,
     "metadata": {},
     "output_type": "execute_result"
    }
   ],
   "source": [
    "data.head()"
   ]
  },
  {
   "cell_type": "code",
   "execution_count": 5,
   "id": "2873a341",
   "metadata": {},
   "outputs": [],
   "source": [
    "# Train-Test splitting\n",
    "x_train,x_test,y_train,y_test = train_test_split(feature,target,test_size=0.3,stratify=target)"
   ]
  },
  {
   "cell_type": "code",
   "execution_count": 6,
   "id": "223a95f7",
   "metadata": {},
   "outputs": [
    {
     "data": {
      "text/plain": [
       "(63585, 63585, 27251, 27251)"
      ]
     },
     "execution_count": 6,
     "metadata": {},
     "output_type": "execute_result"
    }
   ],
   "source": [
    "len(x_train),len(y_train),len(x_test),len(y_test)  # Checking size"
   ]
  },
  {
   "cell_type": "code",
   "execution_count": 7,
   "id": "50648271",
   "metadata": {},
   "outputs": [],
   "source": [
    "# Since we have no null values we can simple replace null values with mean to make distribution normal\n",
    "# We can also impute value with mean,median or\n",
    "# using iterative imputer from sklearn \n",
    "impute = SimpleImputer(missing_values=np.nan,strategy='mean')"
   ]
  },
  {
   "cell_type": "code",
   "execution_count": 8,
   "id": "8f8cc388",
   "metadata": {},
   "outputs": [
    {
     "data": {
      "image/png": "[encoded data removed]",
      "text/plain": [
       "<Figure size 1080x1440 with 5 Axes>"
      ]
     },
     "metadata": {
      "needs_background": "light"
     },
     "output_type": "display_data"
    }
   ],
   "source": [
    "# Now check for outliers\n",
    "plt.figure(figsize=(15,20))\n",
    "j=1\n",
    "for i in x_train.columns:\n",
    "    plt.subplot(5,1,j)\n",
    "    sns.boxplot(x=i,hue='hazardous',data = data)\n",
    "    j+=1\n",
    "    \n",
    "# There is so much outliers so there is a confusion should we remove it or not ?"
   ]
  },
  {
   "cell_type": "code",
   "execution_count": null,
   "id": "8e00d645",
   "metadata": {},
   "outputs": [],
   "source": [
    "# As everything is numerical now, we don't need to encode feature\n",
    "# Therefore removing null values done using imputer, target column is encoded"
   ]
  },
  {
   "cell_type": "code",
   "execution_count": 13,
   "id": "198cd922",
   "metadata": {},
   "outputs": [],
   "source": [
    "# Now use different models for prediction"
   ]
  },
  {
   "cell_type": "code",
   "execution_count": 14,
   "id": "91e2c340",
   "metadata": {},
   "outputs": [],
   "source": [
    "# x_train.to_csv('x_train.csv')\n",
    "# y_train.to_csv('y_train.csv')\n",
    "# x_test.to_csv('x_test.csv')\n",
    "# y_test.to_csv('y_test.csv')"
   ]
  },
  {
   "cell_type": "code",
   "execution_count": null,
   "id": "6fac83d1",
   "metadata": {},
   "outputs": [],
   "source": []
  }
 ],
 "metadata": {
  "kernelspec": {
   "display_name": "Python 3 (ipykernel)",
   "language": "python",
   "name": "python3"
  },
  "language_info": {
   "codemirror_mode": {
    "name": "ipython",
    "version": 3
   },
   "file_extension": ".py",
   "mimetype": "text/x-python",
   "name": "python",
   "nbconvert_exporter": "python",
   "pygments_lexer": "ipython3",
   "version": "3.10.4"
  }
 },
 "nbformat": 4,
 "nbformat_minor": 5
}
